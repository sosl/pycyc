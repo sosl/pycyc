{
 "cells": [
  {
   "cell_type": "code",
   "execution_count": 1,
   "id": "3fcf41cd",
   "metadata": {
    "ExecuteTime": {
     "end_time": "2023-01-09T06:29:23.987592Z",
     "start_time": "2023-01-09T06:29:23.008505Z"
    }
   },
   "outputs": [],
   "source": [
    "import numpy as np\n",
    "import pycyc\n",
    "import matplotlib.pyplot as plt\n",
    "%matplotlib inline\n",
    "from matplotlib.ticker import MultipleLocator\n",
    "import matplotlib as mpl\n",
    "from plotting import plot_intrinsic_vs_observed\n",
    "import copy\n",
    "import pickle\n",
    "import importlib\n",
    "import sys"
   ]
  },
  {
   "cell_type": "code",
   "execution_count": 2,
   "id": "2a7d97ab",
   "metadata": {},
   "outputs": [],
   "source": [
    "mpl.rcParams[\"image.aspect\"] = \"auto\""
   ]
  },
  {
   "cell_type": "code",
   "execution_count": 3,
   "id": "eb0cc6f7",
   "metadata": {},
   "outputs": [],
   "source": [
    "from scipy.fft import rfft, fft, fftshift, ifft, fftn, ifftn"
   ]
  },
  {
   "cell_type": "markdown",
   "id": "aab0e8f4",
   "metadata": {
    "ExecuteTime": {
     "end_time": "2023-01-09T06:30:40.415827Z",
     "start_time": "2023-01-09T06:30:27.555771Z"
    }
   },
   "source": [
    "CS = pycyc.CyclicSolver(\"P2067/chan07/53873.27864.07.15s.cyc\", zap_edges = 0.05556, pscrunch=True)\n",
    "CS.data.shape, CS.nspec"
   ]
  },
  {
   "cell_type": "markdown",
   "id": "f5bc49e1",
   "metadata": {},
   "source": [
    "CS.load(\"P2067/chan07/53873.31676.07.15s.cyc\")\n",
    "CS.data.shape, CS.nspec"
   ]
  },
  {
   "cell_type": "markdown",
   "id": "9a39f0af",
   "metadata": {
    "ExecuteTime": {
     "end_time": "2023-01-09T06:31:53.710520Z",
     "start_time": "2023-01-09T06:30:40.443883Z"
    }
   },
   "source": [
    "CS.initProfile(maxsubint=128)"
   ]
  },
  {
   "cell_type": "markdown",
   "id": "304f13e5",
   "metadata": {},
   "source": [
    "with open (\"cs_post_init.pkl\", \"wb\") as fh:\n",
    "    pickle.dump(CS, fh)"
   ]
  },
  {
   "cell_type": "code",
   "execution_count": null,
   "id": "fc557bcf",
   "metadata": {},
   "outputs": [],
   "source": [
    "with open (\"cs_post_init.pkl\", \"rb\") as fh:\n",
    "    CS = pickle.load(fh)"
   ]
  },
  {
   "cell_type": "code",
   "execution_count": null,
   "id": "53d9fae4",
   "metadata": {
    "ExecuteTime": {
     "end_time": "2023-01-09T06:31:53.915416Z",
     "start_time": "2023-01-09T06:31:53.715680Z"
    }
   },
   "outputs": [],
   "source": [
    "plt.plot(CS.pp_int)"
   ]
  },
  {
   "cell_type": "code",
   "execution_count": null,
   "id": "af8a1c4c",
   "metadata": {},
   "outputs": [],
   "source": [
    "# reload a module to incorporate code chanegs\n",
    "\n",
    "if \"pycyc\" in sys.modules.keys():\n",
    "    print(\"Updated pycyc\")\n",
    "    importlib.reload(sys.modules[\"pycyc\"])\n",
    "import pycyc\n",
    "\n",
    "if \"fista\" in sys.modules.keys():\n",
    "    print(\"Updated fista\")\n",
    "    importlib.reload(sys.modules[\"fista\"])\n",
    "import fista"
   ]
  },
  {
   "cell_type": "code",
   "execution_count": null,
   "id": "11c1363b",
   "metadata": {
    "ExecuteTime": {
     "end_time": "2023-01-09T06:32:25.716586Z",
     "start_time": "2023-01-09T06:32:25.700373Z"
    },
    "scrolled": true
   },
   "outputs": [],
   "source": [
    "# FISTA DA LOT!\n",
    "CS.iprint = 1\n",
    "CS.make_plots = 0\n",
    "CS.niter = 0\n",
    "CS.initWavefield()"
   ]
  },
  {
   "cell_type": "code",
   "execution_count": null,
   "id": "9295752a",
   "metadata": {},
   "outputs": [],
   "source": [
    "CS.merit"
   ]
  },
  {
   "cell_type": "code",
   "execution_count": null,
   "id": "35c8484a",
   "metadata": {},
   "outputs": [],
   "source": [
    "CS.h_doppler_delay_grad.shape\n",
    "plt.plot (np.real(CS.h_time_delay[100]), \".\")"
   ]
  },
  {
   "cell_type": "code",
   "execution_count": null,
   "id": "10d7acce",
   "metadata": {},
   "outputs": [],
   "source": [
    "plt.plot (np.real(CS.h_time_delay_grad[0]), \".\")"
   ]
  },
  {
   "cell_type": "code",
   "execution_count": null,
   "id": "83f32960",
   "metadata": {},
   "outputs": [],
   "source": [
    "CS.h_doppler_delay.shape"
   ]
  },
  {
   "cell_type": "code",
   "execution_count": null,
   "id": "a25f034b",
   "metadata": {},
   "outputs": [],
   "source": [
    "y_n = np.copy(CS.h_doppler_delay)\n",
    "x_n = np.copy(CS.h_doppler_delay)\n",
    "t_n = 1\n",
    "demerits = np.array([])\n",
    "x_n, y_n, L, t_n, demerits = fista.take_fista_step(i=0, func=CS, \n",
    "    backtrack=True, alpha=1.0, eta=10, y_n=y_n, _lambda=None,\n",
    "    delay_for_inf=-int(CS.nchan/2), \n",
    "    zero_penalty_coords = np.array([]),\n",
    "    fix_phase_value = None,\n",
    "    fix_phase_coords = None,\n",
    "    fix_support= np.array([]),\n",
    "    t_n=t_n,\n",
    "    x_n=x_n,\n",
    "    demerits = demerits,\n",
    "    eps = None,\n",
    ")"
   ]
  },
  {
   "cell_type": "code",
   "execution_count": null,
   "id": "547e280b",
   "metadata": {},
   "outputs": [],
   "source": [
    "plt.plot (np.real(y_n[0]))\n",
    "#plt.ylim((-5e-1,5e-1))"
   ]
  },
  {
   "cell_type": "code",
   "execution_count": null,
   "id": "25f878be",
   "metadata": {
    "scrolled": true
   },
   "outputs": [],
   "source": [
    "CS.nopt += 1\n",
    "CS.updateProfile(y_n)\n",
    "plt.plot(CS.pp_int)"
   ]
  },
  {
   "cell_type": "code",
   "execution_count": null,
   "id": "9cf7d0a2",
   "metadata": {},
   "outputs": [],
   "source": [
    "plt.plot (np.real(y_n[1]))"
   ]
  },
  {
   "cell_type": "code",
   "execution_count": null,
   "id": "f6694de4",
   "metadata": {},
   "outputs": [],
   "source": [
    "CS.updateWavefield ()\n",
    "CS.merit"
   ]
  },
  {
   "cell_type": "markdown",
   "id": "1b74d4fb",
   "metadata": {},
   "source": [
    "x_n, y_n, L, t_n, demerits = fista.take_fista_step(i=1, func=CS, \n",
    "    backtrack=True, alpha=1.0/L, eta=1.5, y_n=y_n, _lambda=None,\n",
    "    delay_for_inf=-int(CS.nchan/2), \n",
    "    zero_penalty_coords = np.array([]),\n",
    "    fix_phase_value = None,\n",
    "    fix_phase_coords = None,\n",
    "    fix_support= np.array([]),\n",
    "    t_n=t_n,\n",
    "    x_n=x_n,\n",
    "    demerits = demerits,\n",
    "    eps = None,\n",
    ")"
   ]
  },
  {
   "cell_type": "markdown",
   "id": "17f053b1",
   "metadata": {},
   "source": [
    "Manual experimentation with Lipschitz"
   ]
  },
  {
   "cell_type": "code",
   "execution_count": null,
   "id": "4b0619a9",
   "metadata": {},
   "outputs": [],
   "source": [
    "x_n, y_n, L, t_n, demerits = fista.take_fista_step(i=1, func=CS, \n",
    "    backtrack=False, alpha=1.5, eta=1.5, y_n=y_n, _lambda=None,\n",
    "    delay_for_inf=-int(CS.nchan/2), \n",
    "    zero_penalty_coords = np.array([]),\n",
    "    fix_phase_value = None,\n",
    "    fix_phase_coords = None,\n",
    "    fix_support= np.array([]),\n",
    "    t_n=t_n,\n",
    "    x_n=x_n,\n",
    "    demerits = demerits,\n",
    "    eps = None,\n",
    ")"
   ]
  },
  {
   "cell_type": "code",
   "execution_count": null,
   "id": "7083202f",
   "metadata": {},
   "outputs": [],
   "source": [
    "plt.imshow(np.real(x_n))\n",
    "plt.colorbar()"
   ]
  },
  {
   "cell_type": "code",
   "execution_count": null,
   "id": "2da98270",
   "metadata": {},
   "outputs": [],
   "source": [
    "plt.plot(np.abs(x_n[0]))"
   ]
  },
  {
   "cell_type": "code",
   "execution_count": null,
   "id": "9ed0d064",
   "metadata": {},
   "outputs": [],
   "source": [
    "for i in range (100):\n",
    "    CS.nopt += 1\n",
    "    \n",
    "    CS.updateProfile (y_n)\n",
    "    CS.updateWavefield ()\n",
    "    \n",
    "    print(f\"**************************************************************** CS.merit={CS.merit}\")\n",
    "    x_n, y_n, L, t_n, demerits = fista.take_fista_step(i=i+2, func=CS, \n",
    "        backtrack=False, alpha=1.5, \n",
    "        eta=5, y_n=y_n, _lambda=None,\n",
    "        delay_for_inf=-int(CS.nchan/2), \n",
    "        zero_penalty_coords = np.array([]),\n",
    "        fix_phase_value = None,\n",
    "        fix_phase_coords = None,\n",
    "        fix_support= np.array([]),\n",
    "        t_n=t_n,\n",
    "        x_n=x_n,\n",
    "        demerits = demerits,\n",
    "        eps = None,\n",
    "    )"
   ]
  }
 ],
 "metadata": {
  "kernelspec": {
   "display_name": "Python 3 (ipykernel)",
   "language": "python",
   "name": "python3"
  },
  "language_info": {
   "codemirror_mode": {
    "name": "ipython",
    "version": 3
   },
   "file_extension": ".py",
   "mimetype": "text/x-python",
   "name": "python",
   "nbconvert_exporter": "python",
   "pygments_lexer": "ipython3",
   "version": "3.8.10"
  },
  "toc": {
   "base_numbering": 1,
   "nav_menu": {},
   "number_sections": true,
   "sideBar": true,
   "skip_h1_title": false,
   "title_cell": "Table of Contents",
   "title_sidebar": "Contents",
   "toc_cell": false,
   "toc_position": {},
   "toc_section_display": true,
   "toc_window_display": false
  }
 },
 "nbformat": 4,
 "nbformat_minor": 5
}
