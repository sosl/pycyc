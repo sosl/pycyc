{
 "cells": [
  {
   "cell_type": "code",
   "execution_count": null,
   "id": "3fcf41cd",
   "metadata": {
    "ExecuteTime": {
     "end_time": "2023-01-09T06:29:23.987592Z",
     "start_time": "2023-01-09T06:29:23.008505Z"
    }
   },
   "outputs": [],
   "source": [
    "import numpy as np\n",
    "import pycyc\n",
    "import matplotlib.pyplot as plt\n",
    "%matplotlib inline\n",
    "from matplotlib.ticker import MultipleLocator\n",
    "import matplotlib as mpl\n",
    "from plotting import plot_intrinsic_vs_observed\n",
    "import copy\n",
    "import pickle\n",
    "import importlib\n",
    "import sys\n",
    "import time"
   ]
  },
  {
   "cell_type": "code",
   "execution_count": null,
   "id": "2a7d97ab",
   "metadata": {},
   "outputs": [],
   "source": [
    "mpl.rcParams[\"image.aspect\"] = \"auto\""
   ]
  },
  {
   "cell_type": "code",
   "execution_count": null,
   "id": "eb0cc6f7",
   "metadata": {},
   "outputs": [],
   "source": [
    "from scipy.fft import rfft, fft, fftshift, ifft, fftn, ifftn"
   ]
  },
  {
   "cell_type": "code",
   "execution_count": null,
   "id": "4fea928a",
   "metadata": {
    "ExecuteTime": {
     "end_time": "2023-01-09T06:30:40.415827Z",
     "start_time": "2023-01-09T06:30:27.555771Z"
    }
   },
   "outputs": [],
   "source": [
    "CS = pycyc.CyclicSolver(\"P2067/chan07/53873.27864.07.15s.t2\", zap_edges = 0.05556, pscrunch=True)\n",
    "CS.data.shape, CS.nspec"
   ]
  },
  {
   "cell_type": "code",
   "execution_count": null,
   "id": "ae87f381",
   "metadata": {},
   "outputs": [],
   "source": [
    "CS.load(\"P2067/chan07/53873.31676.07.15s.t2\")\n",
    "CS.data.shape, CS.nspec"
   ]
  },
  {
   "cell_type": "code",
   "execution_count": null,
   "id": "72804a28",
   "metadata": {
    "ExecuteTime": {
     "end_time": "2023-01-09T06:31:53.710520Z",
     "start_time": "2023-01-09T06:30:40.443883Z"
    }
   },
   "outputs": [],
   "source": [
    "CS.save_cyclic_spectra = True\n",
    "CS.iprint = False\n",
    "CS.initProfile()"
   ]
  },
  {
   "cell_type": "markdown",
   "id": "339edc90",
   "metadata": {},
   "source": [
    "with open (\"cs_post_init_t2.pkl\", \"wb\") as fh:\n",
    "    pickle.dump(CS, fh)"
   ]
  },
  {
   "cell_type": "markdown",
   "id": "a17d9ca6",
   "metadata": {},
   "source": [
    "with open (\"cs_post_init_t2.pkl\", \"rb\") as fh:\n",
    "    CS = pickle.load(fh)"
   ]
  },
  {
   "cell_type": "code",
   "execution_count": null,
   "id": "53d9fae4",
   "metadata": {
    "ExecuteTime": {
     "end_time": "2023-01-09T06:31:53.915416Z",
     "start_time": "2023-01-09T06:31:53.715680Z"
    }
   },
   "outputs": [],
   "source": [
    "plt.plot(CS.pp_int)\n",
    "pp_scattered = np.copy(CS.pp_ref)"
   ]
  },
  {
   "cell_type": "code",
   "execution_count": null,
   "id": "af8a1c4c",
   "metadata": {},
   "outputs": [],
   "source": [
    "# reload a module to incorporate code chanegs\n",
    "\n",
    "if \"pycyc\" in sys.modules.keys():\n",
    "    print(\"Updated pycyc\")\n",
    "    importlib.reload(sys.modules[\"pycyc\"])\n",
    "import pycyc\n",
    "\n",
    "if \"fista\" in sys.modules.keys():\n",
    "    print(\"Updated fista\")\n",
    "    importlib.reload(sys.modules[\"fista\"])\n",
    "import fista"
   ]
  },
  {
   "cell_type": "code",
   "execution_count": null,
   "id": "11c1363b",
   "metadata": {
    "ExecuteTime": {
     "end_time": "2023-01-09T06:32:25.716586Z",
     "start_time": "2023-01-09T06:32:25.700373Z"
    },
    "scrolled": true
   },
   "outputs": [],
   "source": [
    "CS.iprint = False\n",
    "CS.make_plots = False\n",
    "CS.ml_profile = False\n",
    "CS.enforce_orthogonal_real_imag = False\n",
    "\n",
    "CS.niter = 0\n",
    "CS.initWavefield()\n",
    "\n",
    "y_n = np.copy(CS.h_doppler_delay)\n",
    "x_n = np.copy(CS.h_doppler_delay)\n",
    "t_n = 1"
   ]
  },
  {
   "cell_type": "code",
   "execution_count": null,
   "id": "c5bc03a8",
   "metadata": {},
   "outputs": [],
   "source": [
    "CS.iprint = 0\n",
    "demerits = np.array([])\n",
    "alpha = 20.0\n",
    "\n",
    "best_merit = CS.merit\n",
    "best_x = np.copy(x_n)\n",
    "best_L = 1.0 / alpha\n",
    "\n",
    "print(f\"starting merit={best_merit}\")"
   ]
  },
  {
   "cell_type": "code",
   "execution_count": null,
   "id": "e8e59a69",
   "metadata": {},
   "outputs": [],
   "source": [
    "step_factor=1.0\n",
    "acceleration=2.0\n",
    "bad_step = 0\n",
    "\n",
    "prev_merit = best_merit"
   ]
  },
  {
   "cell_type": "code",
   "execution_count": null,
   "id": "9ed0d064",
   "metadata": {
    "scrolled": false
   },
   "outputs": [],
   "source": [
    "# Start timer\n",
    "start_time = time.time()\n",
    "min_step_factor = 0.1\n",
    "\n",
    "for i in range (1000):\n",
    "    \n",
    "    CS.nopt += 1\n",
    "            \n",
    "    x_n, y_n, L, t_n, demerits = fista.take_fista_step(iter=i, func=CS, \n",
    "        backtrack=False, alpha=alpha, \n",
    "        eta=5, y_n=y_n, _lambda=None,\n",
    "        delay_for_inf=-int(CS.nchan/2), \n",
    "        zero_penalty_coords = np.array([]),\n",
    "        fix_phase_value = None,\n",
    "        fix_phase_coords = None,\n",
    "        fix_support= np.array([]),\n",
    "        t_n=t_n,\n",
    "        x_n=x_n,\n",
    "        demerits = demerits,\n",
    "        eps = None,\n",
    "    )\n",
    "\n",
    "    if CS.merit < best_merit:\n",
    "        best_merit = CS.merit\n",
    "        best_x = np.copy(x_n)\n",
    "        best_L = L\n",
    "    else:\n",
    "        print (f\"\\n** greater than best={best_merit}\")\n",
    "\n",
    "    if CS.merit > prev_merit:\n",
    "        print (\"**** bad step\")\n",
    "        reset = False\n",
    "        if step_factor < min_step_factor:\n",
    "            print (\"****** reset\")\n",
    "            x_n = np.copy(best_x)\n",
    "            y_n = np.copy(best_x)\n",
    "            L = best_L\n",
    "            t_n = 1\n",
    "            step_factor = min_step_factor\n",
    "        else:\n",
    "            step_factor /= acceleration\n",
    "    else:\n",
    "        step_factor = np.tanh( step_factor * acceleration )\n",
    "\n",
    "    alpha = step_factor / L\n",
    "    prev_merit = CS.merit\n",
    "    \n",
    "    print(f\"\\ndemerit={CS.merit} alpha={alpha} step_factor={step_factor} t_n={t_n}\")\n",
    "    end_time = time.time()\n",
    "\n",
    "    elapsed_time = end_time - start_time\n",
    "    print(f\"Elapsed time: {elapsed_time/60} min\") \n",
    "\n",
    "    if i % 10 == 0:\n",
    "        plotthis = np.log10(np.abs(fftshift(x_n))+ 1e-2)\n",
    "        plt.imshow(plotthis.T, aspect=\"auto\", origin=\"lower\", cmap=\"cubehelix_r\", vmin=-1)\n",
    "        plt.colorbar()\n",
    "        plt.show()\n",
    "        plot_intrinsic_vs_observed(CS, pp_scattered)\n",
    "        plt.show()\n",
    "    "
   ]
  }
 ],
 "metadata": {
  "kernelspec": {
   "display_name": "Python 3 (ipykernel)",
   "language": "python",
   "name": "python3"
  },
  "language_info": {
   "codemirror_mode": {
    "name": "ipython",
    "version": 3
   },
   "file_extension": ".py",
   "mimetype": "text/x-python",
   "name": "python",
   "nbconvert_exporter": "python",
   "pygments_lexer": "ipython3",
   "version": "3.8.10"
  },
  "toc": {
   "base_numbering": 1,
   "nav_menu": {},
   "number_sections": true,
   "sideBar": true,
   "skip_h1_title": false,
   "title_cell": "Table of Contents",
   "title_sidebar": "Contents",
   "toc_cell": false,
   "toc_position": {},
   "toc_section_display": true,
   "toc_window_display": false
  }
 },
 "nbformat": 4,
 "nbformat_minor": 5
}
