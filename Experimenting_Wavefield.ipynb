{
 "cells": [
  {
   "cell_type": "code",
   "execution_count": null,
   "id": "d089f63c",
   "metadata": {},
   "outputs": [],
   "source": [
    "from scipy.fft import rfft, fft, fftshift, ifft, fftn, ifftn\n",
    "from scipy.signal import fftconvolve, kaiser\n",
    "from scipy import signal\n",
    "import matplotlib.pyplot as plt\n",
    "import numpy as np\n",
    "\n",
    "def freq2time(hf, axis=0):\n",
    "    return hf.shape[axis] * ifft(hf, axis=axis)\n",
    "\n",
    "def time2freq(ht, axis=0):\n",
    "    return fft(ht, axis=axis) / ht.shape[axis]"
   ]
  },
  {
   "cell_type": "code",
   "execution_count": null,
   "id": "7dd1882c",
   "metadata": {},
   "outputs": [],
   "source": [
    "import pickle\n",
    "with open (\"reproduce_0/filters_full_0.pkl\", \"rb\") as fh:\n",
    "    hf_time = pickle.load(fh)\n",
    "    \n",
    "wavefield = time2freq(freq2time(hf_time,axis=1),axis=0)\n",
    "nchan = wavefield.shape[1]\n",
    "start_chan = nchan*5//8\n",
    "end_chan = nchan*7//8\n",
    "noise = wavefield[:,start_chan:end_chan]\n",
    "print(f'start={start_chan} end={end_chan} size={np.size(noise)}')\n",
    "variance = np.mean(np.abs(noise)**2)\n",
    "rms = np.sqrt(variance)\n",
    "print(f'rms={rms} log10(rms)={np.log10(rms)}')\n",
    "\n",
    "power=np.abs(fftshift(wavefield))**2"
   ]
  },
  {
   "cell_type": "code",
   "execution_count": null,
   "id": "f8f448eb",
   "metadata": {},
   "outputs": [],
   "source": [
    "plotthis = np.log10(power)\n",
    "plt.imshow(plotthis.T, aspect=\"auto\", origin=\"lower\", cmap=\"cubehelix_r\", vmin=np.log10(rms), interpolation='none')\n",
    "plt.colorbar()"
   ]
  },
  {
   "cell_type": "code",
   "execution_count": null,
   "id": "8f6389fe",
   "metadata": {
    "scrolled": true
   },
   "outputs": [],
   "source": [
    "plt.imshow(plotthis.T, aspect=\"auto\", origin=\"lower\", cmap=\"cubehelix_r\", vmin=np.log10(rms))\n",
    "plt.colorbar()"
   ]
  },
  {
   "cell_type": "code",
   "execution_count": null,
   "id": "1ef3963c",
   "metadata": {},
   "outputs": [],
   "source": [
    "def smooth_2d_array(array, duty_cycle, beta):\n",
    "    # Create the Kaiser window\n",
    "    ashape = np.asarray(array.shape)\n",
    "    wshape = np.round(ashape * duty_cycle)\n",
    "    print(f'wshape={wshape}')\n",
    "    kernel = np.outer(kaiser(wshape[0], beta), kaiser(wshape[1], beta))\n",
    "    kernel /= np.sum(kernel)  # Normalize the kernel\n",
    "\n",
    "    # Convolve the array with the kernel\n",
    "    smoothed_array = fftconvolve(array, kernel, mode='same')\n",
    "\n",
    "    return smoothed_array"
   ]
  },
  {
   "cell_type": "code",
   "execution_count": null,
   "id": "1e74626a",
   "metadata": {},
   "outputs": [],
   "source": [
    "smpow = smooth_2d_array (power, 0.05, 6)\n",
    "plotthis = np.log10(smpow)\n",
    "plt.imshow(plotthis.T, aspect=\"auto\", origin=\"lower\", cmap=\"cubehelix_r\")\n",
    "plt.colorbar()"
   ]
  },
  {
   "cell_type": "code",
   "execution_count": null,
   "id": "02aac547",
   "metadata": {},
   "outputs": [],
   "source": [
    "plotthis = np.log10(smpow)\n",
    "plt.imshow(plotthis.T, aspect=\"auto\", origin=\"lower\", cmap=\"cubehelix_r\", vmin=np.log10(rms/3), interpolation='none')\n",
    "plt.colorbar()"
   ]
  },
  {
   "cell_type": "code",
   "execution_count": null,
   "id": "f2d8fd75",
   "metadata": {},
   "outputs": [],
   "source": [
    "def complex_threshold(x: np.ndarray, threshold: float):\n",
    "    \"\"\"\n",
    "    Any value with abs(x) < threshold is set to zero\n",
    "    \"\"\"\n",
    "    out = np.heaviside(np.abs(x) - threshold, 1) * x\n",
    "    nonz = np.count_nonzero(out)\n",
    "    sz = np.size(out)\n",
    "    print(f\"complex_threshold: zero={(sz-nonz)*100.0/sz} %\")\n",
    "\n",
    "    return out"
   ]
  },
  {
   "cell_type": "code",
   "execution_count": null,
   "id": "406d1046",
   "metadata": {},
   "outputs": [],
   "source": [
    "temp=complex_threshold(wavefield, rms)\n",
    "plotthis = np.log10(np.abs(temp)+rms*1e-4)\n",
    "plt.imshow(plotthis, aspect=\"auto\", origin=\"lower\", cmap=\"cubehelix_r\", vmin=np.log10(rms), interpolation='none')\n",
    "plt.colorbar()"
   ]
  },
  {
   "cell_type": "code",
   "execution_count": null,
   "id": "b54e71e4",
   "metadata": {},
   "outputs": [],
   "source": [
    "wsum1=np.log10(np.sum(np.abs(wavefield)**2,axis=0))\n",
    "plt.plot(wsum1)\n",
    "plt.show()\n",
    "plt.clf()"
   ]
  },
  {
   "cell_type": "code",
   "execution_count": null,
   "id": "1bf8579f",
   "metadata": {},
   "outputs": [],
   "source": [
    "print(wavefield[0,0])"
   ]
  },
  {
   "cell_type": "code",
   "execution_count": null,
   "id": "4f4d49fe",
   "metadata": {},
   "outputs": [],
   "source": [
    "print(np.max(np.abs(wavefield)))"
   ]
  },
  {
   "cell_type": "code",
   "execution_count": null,
   "id": "1b75d0d3",
   "metadata": {},
   "outputs": [],
   "source": [
    "wavefield[0,0]=0\n",
    "wavefield.shape"
   ]
  },
  {
   "cell_type": "code",
   "execution_count": null,
   "id": "5f7c2ec8",
   "metadata": {},
   "outputs": [],
   "source": [
    "hf_time = time2freq(freq2time(wavefield,axis=0),axis=1)"
   ]
  },
  {
   "cell_type": "code",
   "execution_count": null,
   "id": "2071bb10",
   "metadata": {},
   "outputs": [],
   "source": [
    "print(np.max(np.abs(hf_time)))"
   ]
  },
  {
   "cell_type": "code",
   "execution_count": null,
   "id": "58fb865e",
   "metadata": {},
   "outputs": [],
   "source": [
    "hft = np.ones_like(hf_time)"
   ]
  },
  {
   "cell_type": "code",
   "execution_count": null,
   "id": "3bd38f23",
   "metadata": {},
   "outputs": [],
   "source": [
    "h = freq2time(time2freq(hft,axis=0),axis=1)"
   ]
  },
  {
   "cell_type": "code",
   "execution_count": null,
   "id": "25c1d94f",
   "metadata": {},
   "outputs": [],
   "source": [
    "print(h)"
   ]
  },
  {
   "cell_type": "code",
   "execution_count": null,
   "id": "8202d020",
   "metadata": {},
   "outputs": [],
   "source": [
    "        h_time_delay = np.zeros_like(hf_time)\n",
    "        h_time_delay[:,0] = 4096\n",
    "        h_doppler_delay = fft(h_time_delay, axis=0) / h_time_delay.shape[0]\n",
    "print(h_doppler_delay)"
   ]
  },
  {
   "cell_type": "code",
   "execution_count": null,
   "id": "e20ad5b2",
   "metadata": {},
   "outputs": [],
   "source": [
    "0.2176825252584063**2"
   ]
  },
  {
   "cell_type": "code",
   "execution_count": null,
   "id": "fb737c2b",
   "metadata": {},
   "outputs": [],
   "source": [
    "0.0473856818028767*4096"
   ]
  },
  {
   "cell_type": "code",
   "execution_count": null,
   "id": "7495cff7",
   "metadata": {},
   "outputs": [],
   "source": []
  }
 ],
 "metadata": {
  "kernelspec": {
   "display_name": "Python 3 (ipykernel)",
   "language": "python",
   "name": "python3"
  },
  "language_info": {
   "codemirror_mode": {
    "name": "ipython",
    "version": 3
   },
   "file_extension": ".py",
   "mimetype": "text/x-python",
   "name": "python",
   "nbconvert_exporter": "python",
   "pygments_lexer": "ipython3",
   "version": "3.8.10"
  }
 },
 "nbformat": 4,
 "nbformat_minor": 5
}
